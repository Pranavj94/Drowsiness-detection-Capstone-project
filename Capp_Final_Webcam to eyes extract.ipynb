{
 "cells": [
  {
   "cell_type": "code",
   "execution_count": null,
   "metadata": {},
   "outputs": [],
   "source": [
    "import numpy as np\n",
    "import cv2\n",
    "import os"
   ]
  },
  {
   "cell_type": "code",
   "execution_count": null,
   "metadata": {},
   "outputs": [],
   "source": [
    "def webcam(fname,state):\n",
    "    if state == 0:\n",
    "        fpath=\"E:/CAPP/Active/Videos/\"\n",
    "    elif state == 2:\n",
    "        fpath=\"E:/CAPP/Drowzy/Videos/\"\n",
    "    else:\n",
    "        raise Exception(\"Invalid code for state\")\n",
    "\n",
    "\n",
    "    #fpath=os.path.join(fpath+\"/\"+fname)\n",
    "\n",
    "    if(os.path.exists(fpath)==False):\n",
    "        os.mkdir(fpath)\n",
    "\n",
    "\n",
    "    cap = cv2.VideoCapture(0) \n",
    "\n",
    "    fourcc = cv2.VideoWriter_fourcc(*'MP4V') \n",
    "    loc=os.path.join(fpath,fname+'.mp4')\n",
    "    out = cv2.VideoWriter(loc, fourcc, 30.0, (640, 480)) \n",
    "    print(loc)\n",
    "    count=0\n",
    "    while(True): \n",
    "\n",
    "        ret, frame = cap.read() \n",
    "        count+=1\n",
    "        # output the frame \n",
    "        out.write(frame) \n",
    "        # The original input frame is shown in the window \n",
    "        cv2.imshow('Original', frame) \n",
    "\n",
    "        # Wait for 'q' key to stop the program \n",
    "        if (cv2.waitKey(1) & 0xFF == ord('q')) or count==40: \n",
    "            break\n",
    "\n",
    "\n",
    "    cap.release() \n",
    "    out.release()  \n",
    "    cv2.destroyAllWindows() "
   ]
  },
  {
   "cell_type": "code",
   "execution_count": null,
   "metadata": {},
   "outputs": [],
   "source": [
    "webcam(\"Sravanya1\",0) #For Alert"
   ]
  },
  {
   "cell_type": "code",
   "execution_count": null,
   "metadata": {},
   "outputs": [],
   "source": []
  },
  {
   "cell_type": "code",
   "execution_count": null,
   "metadata": {},
   "outputs": [],
   "source": [
    "webcam(\"Sravanya1\",2) #For Drowzy"
   ]
  },
  {
   "cell_type": "code",
   "execution_count": null,
   "metadata": {},
   "outputs": [],
   "source": []
  },
  {
   "cell_type": "code",
   "execution_count": null,
   "metadata": {},
   "outputs": [],
   "source": []
  },
  {
   "cell_type": "markdown",
   "metadata": {},
   "source": [
    "### Extact eyes from all saved images"
   ]
  },
  {
   "cell_type": "code",
   "execution_count": null,
   "metadata": {},
   "outputs": [],
   "source": [
    "#Create folders for each video\n",
    "\n",
    "import os\n",
    "import numpy as np\n",
    "import cv2\n",
    "\n",
    "\n",
    "\n",
    "face_cascade = cv2.CascadeClassifier('C:\\\\Anaconda3\\\\Library\\\\etc\\\\haarcascades\\\\haarcascade_frontalface_default.xml')\n",
    "eye_cascade = cv2.CascadeClassifier('C:\\\\Anaconda3\\\\Library\\\\etc\\\\haarcascades\\\\haarcascade_mcs_eyepair_big.xml')\n",
    "\n",
    "base=['E:\\\\CAPP\\\\Active\\\\','E:\\\\CAPP\\\\Drowzy\\\\']\n",
    "for a in base:\n",
    "    ind=os.listdir(a+'Videos')\n",
    "    for b in ind:\n",
    "        path=str(a+\"Images\\\\\"+b[:-4])\n",
    "        if(os.path.exists(path)==False):\n",
    "            os.mkdir(path)\n",
    "        #Find Folder for each video name\n",
    "        for folder in os.listdir((a+\"Images\\\\\")):\n",
    "            if (folder == b[:-4]):\n",
    "                fpath=str(a+\"Videos\\\\\"+b)\n",
    "                cap = cv2.VideoCapture(fpath) \n",
    "                count=1\n",
    "                ret=1\n",
    "                while ret:\n",
    "                    ret, img = cap.read()\n",
    "                    if ret==0:break\n",
    "                    gray = cv2.cvtColor(img,0)\n",
    "                    faces = face_cascade.detectMultiScale(gray, 1.2, 5)\n",
    "                    for (x,y,w,h) in faces:\n",
    "                        cv2.rectangle(img,(x,y),(x+w,y+h),(255,0,0),2)\n",
    "                        roi_color = img[y:y+h, x:x+w]\n",
    "                        eyes = eye_cascade.detectMultiScale(roi_color)\n",
    "                        for (ex,ey,ew,eh) in eyes:\n",
    "                            crop_img = roi_color[ey: ey + eh, ex: ex + ew]\n",
    "                            cv2.rectangle(roi_color,(ex,ey),(ex+ew,ey+eh),(0,255,0),2)\n",
    "                            os.chdir(path)\n",
    "                            cv2.imwrite(\"%d.jpg\" % count, crop_img) \n",
    "                            count=count+1"
   ]
  },
  {
   "cell_type": "code",
   "execution_count": null,
   "metadata": {},
   "outputs": [],
   "source": []
  },
  {
   "cell_type": "code",
   "execution_count": null,
   "metadata": {},
   "outputs": [],
   "source": []
  },
  {
   "cell_type": "code",
   "execution_count": null,
   "metadata": {},
   "outputs": [],
   "source": []
  },
  {
   "cell_type": "code",
   "execution_count": 1,
   "metadata": {},
   "outputs": [],
   "source": [
    "#Create folders for each video\n",
    "\n",
    "import os\n",
    "import numpy as np\n",
    "import cv2\n",
    "\n",
    "\n",
    "\n",
    "face_cascade = cv2.CascadeClassifier('C:\\\\Anaconda3\\\\Library\\\\etc\\\\haarcascades\\\\haarcascade_frontalface_default.xml')\n",
    "eye_cascade = cv2.CascadeClassifier('C:\\\\Anaconda3\\\\Library\\\\etc\\\\haarcascades\\\\haarcascade_mcs_eyepair_big.xml')\n",
    "\n",
    "base=['E:\\\\CAPP\\\\1min\\\\']#,'E:\\\\CAPP\\\\Drowzy\\\\']\n",
    "for a in base:\n",
    "    ind=os.listdir(a+'Videos')\n",
    "    for b in ind:\n",
    "        path=str(a+\"Images\\\\\"+b[:-4])\n",
    "        if(os.path.exists(path)==False):\n",
    "            os.mkdir(path)\n",
    "        #Find Folder for each video name\n",
    "        for folder in os.listdir((a+\"Images\\\\\")):\n",
    "            if (folder == b[:-4]):\n",
    "                fpath=str(a+\"Videos\\\\\"+b)\n",
    "                cap = cv2.VideoCapture(fpath) \n",
    "                count=1\n",
    "                ret=1\n",
    "                while ret:\n",
    "                    ret, img = cap.read()\n",
    "                    if ret==0:break\n",
    "                    gray = cv2.cvtColor(img,0)\n",
    "                    faces = face_cascade.detectMultiScale(gray, 1.2, 5)\n",
    "                    for (x,y,w,h) in faces:\n",
    "                        cv2.rectangle(img,(x,y),(x+w,y+h),(255,0,0),2)\n",
    "                        roi_color = img[y:y+h, x:x+w]\n",
    "                        eyes = eye_cascade.detectMultiScale(roi_color)\n",
    "                        for (ex,ey,ew,eh) in eyes:\n",
    "                            crop_img = roi_color[ey: ey + eh, ex: ex + ew]\n",
    "                            cv2.rectangle(roi_color,(ex,ey),(ex+ew,ey+eh),(0,255,0),2)\n",
    "                            os.chdir(path)\n",
    "                            cv2.imwrite(\"%d.jpg\" % count, crop_img) \n",
    "                            count=count+1"
   ]
  },
  {
   "cell_type": "code",
   "execution_count": null,
   "metadata": {},
   "outputs": [],
   "source": []
  }
 ],
 "metadata": {
  "kernelspec": {
   "display_name": "TensorFlow-GPU",
   "language": "python",
   "name": "tensorflow"
  },
  "language_info": {
   "codemirror_mode": {
    "name": "ipython",
    "version": 3
   },
   "file_extension": ".py",
   "mimetype": "text/x-python",
   "name": "python",
   "nbconvert_exporter": "python",
   "pygments_lexer": "ipython3",
   "version": "3.6.8"
  },
  "varInspector": {
   "cols": {
    "lenName": 16,
    "lenType": 16,
    "lenVar": 40
   },
   "kernels_config": {
    "python": {
     "delete_cmd_postfix": "",
     "delete_cmd_prefix": "del ",
     "library": "var_list.py",
     "varRefreshCmd": "print(var_dic_list())"
    },
    "r": {
     "delete_cmd_postfix": ") ",
     "delete_cmd_prefix": "rm(",
     "library": "var_list.r",
     "varRefreshCmd": "cat(var_dic_list()) "
    }
   },
   "types_to_exclude": [
    "module",
    "function",
    "builtin_function_or_method",
    "instance",
    "_Feature"
   ],
   "window_display": false
  }
 },
 "nbformat": 4,
 "nbformat_minor": 2
}
